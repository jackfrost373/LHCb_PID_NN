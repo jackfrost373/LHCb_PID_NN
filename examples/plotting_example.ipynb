{
 "cells": [
  {
   "cell_type": "code",
   "execution_count": null,
   "metadata": {},
   "outputs": [],
   "source": [
    "import ROOT"
   ]
  },
  {
   "cell_type": "code",
   "execution_count": null,
   "metadata": {},
   "outputs": [],
   "source": [
    "f = ROOT.TFile.Open(\"/home/Shared/lhcbdata/davinci_MC_PID.root\")\n",
    "f.ls()"
   ]
  },
  {
   "cell_type": "code",
   "execution_count": null,
   "metadata": {},
   "outputs": [],
   "source": [
    "tree = f.Get(\"PiTree/DecayTree\")\n",
    "tree.Print()"
   ]
  },
  {
   "cell_type": "code",
   "execution_count": null,
   "metadata": {},
   "outputs": [],
   "source": [
    "c1 = ROOT.TCanvas()\n",
    "tree.Draw(\"pi_ProbNNk\",\"abs(pi_TRUEID) == 321\") # 321 = kaon\n",
    "c1.Draw()"
   ]
  },
  {
   "cell_type": "code",
   "execution_count": null,
   "metadata": {},
   "outputs": [],
   "source": [
    "# more advanced drawing\n",
    "ROOT.gStyle.SetOptStat(0)\n",
    "tree.Draw(\"pi_TRACK_time>>hist_pions(100,-3,3)\"  ,\"pi_P < 7000 && pi_TRACK_time_err > 0.1 && abs(pi_TRUEID) == 211\")\n",
    "tree.Draw(\"pi_TRACK_time>>hist_protons(100,-3,3)\",\"pi_P < 7000 && pi_TRACK_time_err > 0.1 && abs(pi_TRUEID) == 2212\")\n",
    "hist_pions   = ROOT.gDirectory.Get(\"hist_pions\")\n",
    "hist_protons = ROOT.gDirectory.Get(\"hist_protons\")\n",
    "\n",
    "hist_pions.SetLineColor(ROOT.kBlue)\n",
    "hist_pions.SetLineWidth(2)\n",
    "hist_pions.SetTitle(\"\")\n",
    "hist_pions.GetXaxis().SetTitle(\"track time [ns]\")\n",
    "hist_pions.DrawNormalized()\n",
    "hist_protons.SetLineColor(ROOT.kRed)\n",
    "hist_protons.SetLineWidth(2)\n",
    "hist_protons.DrawNormalized(\"same\")\n",
    "\n",
    "leg = ROOT.TLegend(0.7,0.8,0.9,0.9)\n",
    "leg.AddEntry(hist_pions,\"pions\",\"l\")\n",
    "leg.AddEntry(hist_protons,\"protons\",\"l\")\n",
    "leg.Draw(\"same\")\n",
    "\n",
    "c1.Draw()"
   ]
  },
  {
   "cell_type": "code",
   "execution_count": null,
   "metadata": {},
   "outputs": [],
   "source": [
    "import uproot\n",
    "import pandas as ps\n",
    "import matplotlib.pyplot as plt"
   ]
  },
  {
   "cell_type": "code",
   "execution_count": null,
   "metadata": {},
   "outputs": [],
   "source": [
    "f2 = uproot.open('/home/Shared/lhcbdata/davinci_MC_PID.root')\n",
    "tree2 = f2[\"PiTree/DecayTree\"]\n",
    "df = tree2.pandas.df()"
   ]
  },
  {
   "cell_type": "code",
   "execution_count": null,
   "metadata": {},
   "outputs": [],
   "source": [
    "crit_global = (df['pi_P'] < 7000) & (df['pi_TRACK_time_err'] > 0.1)\n",
    "crit_pion   = abs(df['pi_TRUEID']) == 211\n",
    "crit_proton = abs(df['pi_TRUEID']) == 2212\n",
    "df_pions   = df[crit_global & crit_pion]\n",
    "df_protons = df[crit_global & crit_proton]"
   ]
  },
  {
   "cell_type": "code",
   "execution_count": null,
   "metadata": {},
   "outputs": [],
   "source": [
    "df_pions[  \"pi_TRACK_time\"].plot.hist(bins=100, range=(-3,3), alpha=0.5, density=True, label=\"pions\")\n",
    "df_protons[\"pi_TRACK_time\"].plot.hist(bins=100, range=(-3,3), alpha=0.5, density=True, label=\"protons\")\n",
    "plt.legend(loc='upper right')\n",
    "plt.xlabel(\"track time [ns]\")\n",
    "plt.show()"
   ]
  },
  {
   "cell_type": "code",
   "execution_count": null,
   "metadata": {},
   "outputs": [],
   "source": []
  }
 ],
 "metadata": {
  "kernelspec": {
   "display_name": "Python 3",
   "language": "python",
   "name": "python3"
  },
  "language_info": {
   "codemirror_mode": {
    "name": "ipython",
    "version": 3
   },
   "file_extension": ".py",
   "mimetype": "text/x-python",
   "name": "python",
   "nbconvert_exporter": "python",
   "pygments_lexer": "ipython3",
   "version": "3.5.3"
  }
 },
 "nbformat": 4,
 "nbformat_minor": 2
}
