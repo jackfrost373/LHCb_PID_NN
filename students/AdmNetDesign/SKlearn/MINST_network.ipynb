{
 "cells": [
  {
   "cell_type": "code",
   "execution_count": 31,
   "metadata": {},
   "outputs": [],
   "source": [
    "import matplotlib.pyplot as plt\n",
    "from sklearn import datasets, svm, metrics\n",
    "from sklearn.neural_network import MLPClassifier\n",
    "from sklearn.ensemble import BaggingClassifier\n",
    "digits=datasets.load_digits()"
   ]
  },
  {
   "cell_type": "code",
   "execution_count": 32,
   "metadata": {},
   "outputs": [
    {
     "data": {
      "image/png": "[encoded data removed]",
      "text/plain": [
       "<Figure size 432x288 with 4 Axes>"
      ]
     },
     "metadata": {
      "needs_background": "light"
     },
     "output_type": "display_data"
    }
   ],
   "source": [
    "images_and_labels=list(zip(digits.images, digits.target))\n",
    "for index, (image, label)in enumerate(images_and_labels[:4]):\n",
    "    plt.subplot(2,4,index+1)\n",
    "    plt.axis('off')\n",
    "    plt.imshow(image, cmap=plt.cm.gray_r, interpolation='nearest')\n",
    "    plt.title('training: %i'%label)"
   ]
  },
  {
   "cell_type": "code",
   "execution_count": 33,
   "metadata": {},
   "outputs": [],
   "source": [
    "n_samples=len(digits.images)\n",
    "data= digits.images.reshape((n_samples, -1))"
   ]
  },
  {
   "cell_type": "code",
   "execution_count": 48,
   "metadata": {},
   "outputs": [
    {
     "name": "stdout",
     "output_type": "stream",
     "text": [
      "Training...\n"
     ]
    },
    {
     "data": {
      "text/plain": [
       "MLPClassifier(activation='relu', alpha=0.0001, batch_size='auto', beta_1=0.9,\n",
       "       beta_2=0.999, early_stopping=False, epsilon=1e-08,\n",
       "       hidden_layer_sizes=(50, 30, 10), learning_rate='adaptive',\n",
       "       learning_rate_init=0.0015, max_iter=400, momentum=0.9,\n",
       "       n_iter_no_change=10, nesterovs_momentum=True, power_t=0.5,\n",
       "       random_state=None, shuffle=True, solver='lbfgs', tol=0.0001,\n",
       "       validation_fraction=0.1, verbose=1, warm_start=False)"
      ]
     },
     "execution_count": 48,
     "metadata": {},
     "output_type": "execute_result"
    }
   ],
   "source": [
    "print(\"Training...\")\n",
    "classifier=MLPClassifier(activation='relu', alpha=0.0001, batch_size='auto', beta_1=0.9,\n",
    "           beta_2=0.999, early_stopping=False, epsilon=1e-08,\n",
    "           hidden_layer_sizes=(50, 30, 10), learning_rate='adaptive',\n",
    "           learning_rate_init=0.0015, max_iter=400, momentum=0.9,\n",
    "           n_iter_no_change=10, nesterovs_momentum=True, power_t=0.5,\n",
    "           random_state=None, shuffle=True, solver='lbfgs', tol=0.0001,\n",
    "           validation_fraction=0.1, verbose=1, warm_start=False)\n",
    "classifier.fit(data[:n_samples//2:],digits.target[:n_samples//2])"
   ]
  },
  {
   "cell_type": "code",
   "execution_count": 50,
   "metadata": {
    "scrolled": true
   },
   "outputs": [
    {
     "name": "stdout",
     "output_type": "stream",
     "text": [
      "Classification report for classifier MLPClassifier(activation='relu', alpha=0.0001, batch_size='auto', beta_1=0.9,\n",
      "       beta_2=0.999, early_stopping=False, epsilon=1e-08,\n",
      "       hidden_layer_sizes=(50, 30, 10), learning_rate='adaptive',\n",
      "       learning_rate_init=0.0015, max_iter=400, momentum=0.9,\n",
      "       n_iter_no_change=10, nesterovs_momentum=True, power_t=0.5,\n",
      "       random_state=None, shuffle=True, solver='lbfgs', tol=0.0001,\n",
      "       validation_fraction=0.1, verbose=1, warm_start=False):\n",
      "              precision    recall  f1-score   support\n",
      "\n",
      "           0       0.98      0.94      0.96        88\n",
      "           1       0.85      0.90      0.88        91\n",
      "           2       0.92      0.92      0.92        86\n",
      "           3       0.93      0.85      0.89        91\n",
      "           4       0.95      0.90      0.93        92\n",
      "           5       0.79      0.89      0.84        91\n",
      "           6       0.97      0.95      0.96        91\n",
      "           7       0.99      0.89      0.93        89\n",
      "           8       0.92      0.89      0.90        88\n",
      "           9       0.80      0.92      0.86        92\n",
      "\n",
      "   micro avg       0.90      0.90      0.90       899\n",
      "   macro avg       0.91      0.90      0.91       899\n",
      "weighted avg       0.91      0.90      0.91       899\n",
      "\n",
      "\n",
      "Confusion matrix:\n",
      "[[83  0  0  0  0  0  2  1  0  2]\n",
      " [ 0 82  0  0  2  3  0  0  0  4]\n",
      " [ 0  0 79  3  0  4  0  0  0  0]\n",
      " [ 0  1  6 77  0  3  1  0  3  0]\n",
      " [ 1  2  0  0 83  0  0  0  0  6]\n",
      " [ 0  3  0  0  1 81  0  0  3  3]\n",
      " [ 0  5  0  0  0  0 86  0  0  0]\n",
      " [ 0  0  0  0  1  5  0 79  0  4]\n",
      " [ 0  2  1  2  0  3  0  0 78  2]\n",
      " [ 1  1  0  1  0  3  0  0  1 85]]\n"
     ]
    },
    {
     "data": {
      "image/png": "[encoded data removed]",
      "text/plain": [
       "<Figure size 432x288 with 4 Axes>"
      ]
     },
     "metadata": {
      "needs_background": "light"
     },
     "output_type": "display_data"
    }
   ],
   "source": [
    "expected = digits.target[n_samples // 2:]\n",
    "predicted = classifier.predict(data[n_samples // 2:])\n",
    "print(\"Classification report for classifier %s:\\n%s\\n\"\n",
    "      % (classifier, metrics.classification_report(expected, predicted)))\n",
    "print(\"Confusion matrix:\\n%s\" % metrics.confusion_matrix(expected, predicted))\n",
    "images_and_predictions = list(zip(digits.images[n_samples // 2:], predicted))\n",
    "for index, (image, prediction) in enumerate(images_and_predictions[:4]):\n",
    "    plt.subplot(2, 4, index + 5)\n",
    "    plt.axis('off')\n",
    "    plt.imshow(image, cmap=plt.cm.gray_r, interpolation='nearest')\n",
    "    plt.title('Prediction: %i' % prediction)\n",
    "\n",
    "plt.show()"
   ]
  },
  {
   "cell_type": "code",
   "execution_count": null,
   "metadata": {},
   "outputs": [],
   "source": []
  },
  {
   "cell_type": "code",
   "execution_count": null,
   "metadata": {},
   "outputs": [],
   "source": []
  }
 ],
 "metadata": {
  "kernelspec": {
   "display_name": "Python 3",
   "language": "python",
   "name": "python3"
  },
  "language_info": {
   "codemirror_mode": {
    "name": "ipython",
    "version": 3
   },
   "file_extension": ".py",
   "mimetype": "text/x-python",
   "name": "python",
   "nbconvert_exporter": "python",
   "pygments_lexer": "ipython3",
   "version": "3.5.3"
  }
 },
 "nbformat": 4,
 "nbformat_minor": 2
}
