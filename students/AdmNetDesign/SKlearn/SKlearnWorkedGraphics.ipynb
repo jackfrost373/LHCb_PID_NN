{
 "cells": [
  {
   "cell_type": "code",
   "execution_count": 590,
   "metadata": {},
   "outputs": [],
   "source": [
    "import uproot\n",
    "import pandas as pd\n",
    "import numpy as np\n",
    "import matplotlib.pyplot as plt"
   ]
  },
  {
   "cell_type": "code",
   "execution_count": 358,
   "metadata": {},
   "outputs": [],
   "source": [
    "tfile = uproot.open('/home/Shared/lhcbdata/davinci_MC_PID.root')\n",
    "tree = tfile[\"PiTree/DecayTree\"]\n",
    "df = tree.pandas.df()"
   ]
  },
  {
   "cell_type": "code",
   "execution_count": 359,
   "metadata": {},
   "outputs": [
    {
     "name": "stdout",
     "output_type": "stream",
     "text": [
      "   pi_OWNPV_X  pi_OWNPV_Y  pi_OWNPV_Z  pi_OWNPV_XERR  pi_OWNPV_YERR  \\\n",
      "0      0.8399     -0.0781     -3.2167         0.0111         0.0111   \n",
      "1      0.8399     -0.0781     -3.2167         0.0111         0.0111   \n",
      "2      0.8399     -0.0781     -3.2167         0.0111         0.0111   \n",
      "3      0.8399     -0.0781     -3.2167         0.0111         0.0111   \n",
      "4      0.8399     -0.0781     -3.2167         0.0111         0.0111   \n",
      "\n",
      "   pi_OWNPV_ZERR  pi_OWNPV_CHI2  pi_OWNPV_NDOF  pi_OWNPV_COV_[0][0]  \\\n",
      "0         0.0545      19.521955             55             0.000123   \n",
      "1         0.0545      19.521955             55             0.000123   \n",
      "2         0.0545      19.521955             55             0.000123   \n",
      "3         0.0545      19.521955             55             0.000123   \n",
      "4         0.0545      19.521955             55             0.000123   \n",
      "\n",
      "   pi_OWNPV_COV_[0][1]    ...     runNumber  eventNumber  BCID  BCType  \\\n",
      "0             0.000001    ...       8352261         6001     0       3   \n",
      "1             0.000001    ...       8352261         6001     0       3   \n",
      "2             0.000001    ...       8352261         6001     0       3   \n",
      "3             0.000001    ...       8352261         6001     0       3   \n",
      "4             0.000001    ...       8352261         6001     0       3   \n",
      "\n",
      "   OdinTCK  L0DUTCK     HLT1TCK     HLT2TCK  GpsTime  Polarity  \n",
      "0        0     5897  1365317385  1650857737        0        -1  \n",
      "1        0     5897  1365317385  1650857737        0        -1  \n",
      "2        0     5897  1365317385  1650857737        0        -1  \n",
      "3        0     5897  1365317385  1650857737        0        -1  \n",
      "4        0     5897  1365317385  1650857737        0        -1  \n",
      "\n",
      "[5 rows x 199 columns]\n"
     ]
    }
   ],
   "source": [
    "print(df.head())"
   ]
  },
  {
   "cell_type": "code",
   "execution_count": 360,
   "metadata": {},
   "outputs": [
    {
     "name": "stdout",
     "output_type": "stream",
     "text": [
      "211     60058\n",
      "321     11217\n",
      "0        9015\n",
      "2212     6650\n",
      "13       4983\n",
      "11       3616\n",
      "3222       34\n",
      "3112       10\n",
      "3312        4\n",
      "Name: absid, dtype: int64\n"
     ]
    }
   ],
   "source": [
    "df['absid'] = df['pi_TRUEID'].abs()\n",
    "print(df['absid'].value_counts())"
   ]
  },
  {
   "cell_type": "code",
   "execution_count": 361,
   "metadata": {},
   "outputs": [],
   "source": [
    "crit_global = (df['pi_TRACK_time_err'] > 0.1) & (df['pi_P'] > 1200)\n",
    "crit_types  = (abs(df['pi_TRUEID']) == 211) | (abs(df['pi_TRUEID']) == 321)"
   ]
  },
  {
   "cell_type": "code",
   "execution_count": 362,
   "metadata": {},
   "outputs": [],
   "source": [
    "dfsel = df[crit_global & crit_types]"
   ]
  },
  {
   "cell_type": "code",
   "execution_count": 363,
   "metadata": {},
   "outputs": [],
   "source": [
    "attributesTRACK = ['TrackP','TrackPt','TrackChi2PerDof','TrackNumDof','TrackLikelihood','TrackFitTChi2','TrackFitTNDoF','TrackFitMatchChi2', 'TrackGhostProbability','TrackCloneDist','TrackFitVeloChi2','TrackFitVeloNDoF',]\n",
    "attributesRICH = ['RichUsedAero', 'RichUsedR1Gas', 'RichUsedR2Gas', 'RichAboveMuThres', 'RichAboveKaThres']\n",
    "attributesDLLS = ['RichDLLe','RichDLLmu','RichDLLk','RichDLLp','RichDLLbt']\n",
    "attributesCALO = ['EcalPIDe', 'EcalPIDmu', 'HcalPIDe', 'HcalPIDmu', 'PrsPIDe', 'InAccBrem', 'BremPIDe']\n",
    "attributesOther = ['VeloCharge', 'pi_TRACK_time','pi_TRACK_time_err']"
   ]
  },
  {
   "cell_type": "code",
   "execution_count": 378,
   "metadata": {},
   "outputs": [
    {
     "ename": "SyntaxError",
     "evalue": "invalid syntax (<ipython-input-378-cc21aad308e9>, line 2)",
     "output_type": "error",
     "traceback": [
      "\u001b[0;36m  File \u001b[0;32m\"<ipython-input-378-cc21aad308e9>\"\u001b[0;36m, line \u001b[0;32m2\u001b[0m\n\u001b[0;31m    conda update sklearn\u001b[0m\n\u001b[0m               ^\u001b[0m\n\u001b[0;31mSyntaxError\u001b[0m\u001b[0;31m:\u001b[0m invalid syntax\n"
     ]
    }
   ],
   "source": [
    "import sklearn\n",
    "print('The scikit-learn version is {}.'.format(sklearn.__version__))"
   ]
  },
  {
   "cell_type": "code",
   "execution_count": 379,
   "metadata": {},
   "outputs": [
    {
     "name": "stdout",
     "output_type": "stream",
     "text": [
      "['TrackP', 'TrackPt', 'TrackChi2PerDof', 'TrackNumDof', 'TrackLikelihood', 'TrackFitTChi2', 'TrackFitTNDoF', 'TrackFitMatchChi2', 'TrackGhostProbability', 'TrackCloneDist', 'TrackFitVeloChi2', 'TrackFitVeloNDoF', 'RichUsedAero', 'RichUsedR1Gas', 'RichUsedR2Gas', 'RichAboveMuThres', 'RichAboveKaThres', 'RichDLLe', 'RichDLLmu', 'RichDLLk', 'RichDLLp', 'RichDLLbt', 'EcalPIDe', 'EcalPIDmu', 'HcalPIDe', 'HcalPIDmu', 'PrsPIDe', 'InAccBrem', 'BremPIDe', 'VeloCharge', 'pi_TRACK_time', 'pi_TRACK_time_err']\n",
      "32\n"
     ]
    }
   ],
   "source": [
    "attributes = attributesTRACK + attributesRICH + attributesDLLS + attributesCALO + attributesOther\n",
    "print(attributes)\n",
    "print(len(attributes))"
   ]
  },
  {
   "cell_type": "code",
   "execution_count": 365,
   "metadata": {
    "scrolled": true
   },
   "outputs": [
    {
     "name": "stdout",
     "output_type": "stream",
     "text": [
      "         TrackP      TrackPt  TrackChi2PerDof  TrackNumDof  TrackLikelihood  \\\n",
      "0  18970.029297  1237.452759         0.907122         44.0            999.0   \n",
      "1   9568.049805   442.529633         0.856704         39.0            999.0   \n",
      "2   4462.279785   561.040894         0.719813         37.0            999.0   \n",
      "3  11481.330078   421.080994         0.980475         29.0            999.0   \n",
      "4  22361.349609  3396.917236         0.779024         36.0            999.0   \n",
      "\n",
      "   TrackFitTChi2  TrackFitTNDoF  TrackFitMatchChi2  TrackGhostProbability  \\\n",
      "0      20.376438           22.0           0.404741               0.002079   \n",
      "1      10.704556           17.0           3.351159               0.002742   \n",
      "2      17.902998           18.0           3.447850               0.003191   \n",
      "3       7.674383            9.0           6.038064               0.002471   \n",
      "4       9.681694           17.0           3.768179               0.002260   \n",
      "\n",
      "   TrackCloneDist        ...            EcalPIDe   EcalPIDmu    HcalPIDe  \\\n",
      "0          -999.0        ...         -999.000000 -999.000000 -999.000000   \n",
      "1          -999.0        ...           -2.947561   -0.880052   -1.155630   \n",
      "2          -999.0        ...           -2.723427    0.494733    0.434916   \n",
      "3          -999.0        ...           -3.283637    0.433955   -1.603800   \n",
      "4          -999.0        ...           -3.000647    0.790061    1.137885   \n",
      "\n",
      "    HcalPIDmu   PrsPIDe  InAccBrem    BremPIDe  VeloCharge  pi_TRACK_time  \\\n",
      "0 -999.000000 -3.036346        1.0   -0.591406    0.860572       0.367233   \n",
      "1    2.045695 -2.730663        1.0   -0.638976    0.789070      -0.141061   \n",
      "2   -2.463662 -2.342202        1.0   -0.553589    0.842697       0.534093   \n",
      "3   -1.903457 -3.062696        0.0 -999.000000    0.876405      -1.996830   \n",
      "4   -0.714070 -2.835486        1.0   -0.581258    0.970662       0.504446   \n",
      "\n",
      "   pi_TRACK_time_err  \n",
      "0           0.513072  \n",
      "1           0.468469  \n",
      "2           0.443626  \n",
      "3           1.669854  \n",
      "4           0.463140  \n",
      "\n",
      "[5 rows x 32 columns]\n"
     ]
    }
   ],
   "source": [
    "X = dfsel.loc[ :, attributes ]\n",
    "print(X.head())"
   ]
  },
  {
   "cell_type": "code",
   "execution_count": 366,
   "metadata": {},
   "outputs": [
    {
     "name": "stdout",
     "output_type": "stream",
     "text": [
      "0    211\n",
      "1    321\n",
      "2    211\n",
      "3    211\n",
      "4    211\n",
      "Name: absid, dtype: category\n",
      "Categories (2, int64): [211, 321]\n"
     ]
    }
   ],
   "source": [
    "y = dfsel['absid'].astype('category')\n",
    "print(y.head())"
   ]
  },
  {
   "cell_type": "code",
   "execution_count": 367,
   "metadata": {},
   "outputs": [],
   "source": [
    "from sklearn.model_selection import train_test_split\n",
    "X_train, X_test, y_train, y_test = train_test_split(X, y, test_size = 0.25)"
   ]
  },
  {
   "cell_type": "code",
   "execution_count": 368,
   "metadata": {},
   "outputs": [],
   "source": [
    "from sklearn.preprocessing import StandardScaler\n",
    "scaler = StandardScaler()\n",
    "scaler.fit(X_train)\n",
    "X_train = scaler.transform(X_train)\n",
    "X_test = scaler.transform(X_test)"
   ]
  },
  {
   "cell_type": "code",
   "execution_count": 568,
   "metadata": {
    "scrolled": true
   },
   "outputs": [
    {
     "name": "stdout",
     "output_type": "stream",
     "text": [
      "Training...\n",
      "Iteration 1, loss = 0.35196614\n",
      "Iteration 2, loss = 0.19426947\n",
      "Iteration 3, loss = 0.17176305\n",
      "Iteration 4, loss = 0.16460925\n",
      "Iteration 5, loss = 0.16005853\n",
      "Iteration 6, loss = 0.15684343\n",
      "Iteration 7, loss = 0.15401204\n",
      "Iteration 8, loss = 0.15197994\n",
      "Iteration 9, loss = 0.14959417\n",
      "Iteration 10, loss = 0.14881392\n",
      "Iteration 11, loss = 0.14642782\n",
      "Iteration 12, loss = 0.14523271\n",
      "Iteration 13, loss = 0.14449542\n",
      "Iteration 14, loss = 0.14321091\n",
      "Iteration 15, loss = 0.14209810\n",
      "Iteration 16, loss = 0.14171744\n",
      "Iteration 17, loss = 0.14029782\n",
      "Iteration 18, loss = 0.13930377\n",
      "Iteration 19, loss = 0.13960084\n",
      "Iteration 20, loss = 0.13832759\n",
      "Iteration 21, loss = 0.13773288\n",
      "Iteration 22, loss = 0.13711436\n",
      "Iteration 23, loss = 0.13707163\n",
      "Iteration 24, loss = 0.13666113\n",
      "Iteration 25, loss = 0.13635427\n",
      "Iteration 26, loss = 0.13534360\n",
      "Iteration 27, loss = 0.13514355\n",
      "Iteration 28, loss = 0.13512407\n",
      "Iteration 29, loss = 0.13467758\n",
      "Iteration 30, loss = 0.13514784\n",
      "Iteration 31, loss = 0.13348734\n",
      "Iteration 32, loss = 0.13396034\n",
      "Iteration 33, loss = 0.13404366\n",
      "Iteration 34, loss = 0.13289091\n",
      "Iteration 35, loss = 0.13286937\n",
      "Iteration 36, loss = 0.13255881\n",
      "Iteration 37, loss = 0.13254249\n",
      "Iteration 38, loss = 0.13226193\n",
      "Iteration 39, loss = 0.13196419\n",
      "Iteration 40, loss = 0.13233538\n",
      "Iteration 41, loss = 0.13132159\n",
      "Iteration 42, loss = 0.13135214\n",
      "Iteration 43, loss = 0.13127425\n",
      "Iteration 44, loss = 0.13116032\n",
      "Iteration 45, loss = 0.13103498\n",
      "Iteration 46, loss = 0.13040211\n",
      "Iteration 47, loss = 0.13064895\n",
      "Iteration 48, loss = 0.12997476\n",
      "Iteration 49, loss = 0.13017464\n",
      "Iteration 50, loss = 0.13022492\n",
      "Iteration 51, loss = 0.12997846\n",
      "Training loss did not improve more than tol=0.000010 for two consecutive epochs. Stopping.\n",
      "Training set score: 0.950713\n",
      "Test set score: 0.945254\n"
     ]
    }
   ],
   "source": [
    "print(\"Training...\")\n",
    "akk=(len(attributes),int(len(attributes)-2), 10)\n",
    "from sklearn.neural_network import MLPClassifier\n",
    "mlp = MLPClassifier(hidden_layer_sizes=akk,\n",
    "                    activation='relu', solver='adam',tol=0.00001 ,\n",
    "                    verbose=1., shuffle=True ,learning_rate='adaptive')#_init=0.002)#_init=stepsize(mlp.loss_curve_),n_iter_no_change=10.)  \n",
    "mlp.fit(X_train, y_train.values.ravel()) \n",
    "#loss_values=mlp.loss_curve_\n",
    "#lost=stepsize(loss_values)\n",
    "#print (loss_values)\n",
    "print(\"Training set score: %f\" % mlp.score(X_train, y_train))\n",
    "print(\"Test set score: %f\" % mlp.score(X_test, y_test))"
   ]
  },
  {
   "cell_type": "code",
   "execution_count": 569,
   "metadata": {},
   "outputs": [
    {
     "data": {
      "image/png": "[encoded data removed]",
      "text/plain": [
       "<Figure size 432x288 with 32 Axes>"
      ]
     },
     "metadata": {},
     "output_type": "display_data"
    }
   ],
   "source": [
    "fig, axes = plt.subplots(32, 1)\n",
    "# use global min / max to ensure all weights are shown on the same scale\n",
    "vmin, vmax = mlp.coefs_[0].min(), mlp.coefs_[0].max()\n",
    "for coef, ax in zip(mlp.coefs_[0].T, axes.ravel()):\n",
    "    ax.matshow(coef.reshape(32,1), cmap=plt.cm.gray, vmin=.5 * vmin,\n",
    "               vmax=.5 * vmax)\n",
    "    ax.set_xticks(())\n",
    "    ax.set_yticks(())\n",
    "\n",
    "plt.show()"
   ]
  },
  {
   "cell_type": "code",
   "execution_count": 596,
   "metadata": {},
   "outputs": [
    {
     "data": {
      "image/png": "[encoded data removed]",
      "text/plain": [
       "<Figure size 432x288 with 1 Axes>"
      ]
     },
     "metadata": {
      "needs_background": "light"
     },
     "output_type": "display_data"
    },
    {
     "ename": "AttributeError",
     "evalue": "'NeuralNetwork' object has no attribute 'write_png'",
     "output_type": "error",
     "traceback": [
      "\u001b[0;31m---------------------------------------------------------------------------\u001b[0m",
      "\u001b[0;31mAttributeError\u001b[0m                            Traceback (most recent call last)",
      "\u001b[0;32m<ipython-input-596-2324089576f4>\u001b[0m in \u001b[0;36m<module>\u001b[0;34m()\u001b[0m\n\u001b[1;32m      2\u001b[0m \u001b[0;34m\u001b[0m\u001b[0m\n\u001b[1;32m      3\u001b[0m \u001b[0mnetwork\u001b[0m\u001b[0;34m.\u001b[0m\u001b[0mdraw\u001b[0m\u001b[0;34m(\u001b[0m\u001b[0;34m)\u001b[0m\u001b[0;34m\u001b[0m\u001b[0m\n\u001b[0;32m----> 4\u001b[0;31m \u001b[0mnetwork\u001b[0m\u001b[0;34m.\u001b[0m\u001b[0mwrite_png\u001b[0m\u001b[0;34m(\u001b[0m\u001b[0;34m\"exampleau\"\u001b[0m\u001b[0;34m)\u001b[0m\u001b[0;34m\u001b[0m\u001b[0m\n\u001b[0m\u001b[1;32m      5\u001b[0m \u001b[0;31m#matplotlib.image.imsave('exampleau.png', network)\u001b[0m\u001b[0;34m\u001b[0m\u001b[0;34m\u001b[0m\u001b[0m\n",
      "\u001b[0;31mAttributeError\u001b[0m: 'NeuralNetwork' object has no attribute 'write_png'"
     ]
    }
   ],
   "source": [
    "import matplotlib\n",
    "\n",
    "network.draw()\n",
    "network.write_png(\"exampleau\")\n",
    "#matplotlib.image.imsave('exampleau.png', network)"
   ]
  },
  {
   "cell_type": "code",
   "execution_count": null,
   "metadata": {},
   "outputs": [],
   "source": [
    "matplotlib.network.imsave('name.png', array)"
   ]
  },
  {
   "cell_type": "code",
   "execution_count": 600,
   "metadata": {},
   "outputs": [
    {
     "data": {
      "image/png": "[encoded data removed]",
      "text/plain": [
       "<Figure size 432x288 with 1 Axes>"
      ]
     },
     "metadata": {
      "needs_background": "light"
     },
     "output_type": "display_data"
    },
    {
     "ename": "TypeError",
     "evalue": "draw_wrapper() missing 1 required positional argument: 'renderer'",
     "output_type": "error",
     "traceback": [
      "\u001b[0;31m---------------------------------------------------------------------------\u001b[0m",
      "\u001b[0;31mTypeError\u001b[0m                                 Traceback (most recent call last)",
      "\u001b[0;32m<ipython-input-600-d75da03a7354>\u001b[0m in \u001b[0;36m<module>\u001b[0;34m()\u001b[0m\n\u001b[1;32m     99\u001b[0m     \u001b[0;31m#kol.savefig(\"exambleau.png\")\u001b[0m\u001b[0;34m\u001b[0m\u001b[0;34m\u001b[0m\u001b[0m\n\u001b[1;32m    100\u001b[0m     \u001b[0;31m#network.saveas(\"exaplaue.png\")\u001b[0m\u001b[0;34m\u001b[0m\u001b[0;34m\u001b[0m\u001b[0m\n\u001b[0;32m--> 101\u001b[0;31m     \u001b[0mkol\u001b[0m\u001b[0;34m.\u001b[0m\u001b[0mdraw\u001b[0m\u001b[0;34m(\u001b[0m\u001b[0;34m)\u001b[0m\u001b[0;34m\u001b[0m\u001b[0m\n\u001b[0m",
      "\u001b[0;31mTypeError\u001b[0m: draw_wrapper() missing 1 required positional argument: 'renderer'"
     ]
    },
    {
     "data": {
      "text/plain": [
       "<Figure size 432x288 with 0 Axes>"
      ]
     },
     "metadata": {},
     "output_type": "display_data"
    }
   ],
   "source": [
    "import matplotlib\n",
    "from math import cos, sin, atan\n",
    "from matplotlib import pyplot\n",
    "ck=mlp.coefs_\n",
    "lil=np.asarray(ck[0])\n",
    "liol=np.asarray(ck[1])\n",
    "loil=np.asarray(ck[2])\n",
    "class Neuron():\n",
    "    def __init__(self, x, y):\n",
    "        self.x = x\n",
    "        self.y = y\n",
    "\n",
    "    def draw(self):\n",
    "        circle = pyplot.Circle((self.x, self.y), radius=neuron_radius, fill=False)\n",
    "        pyplot.gca().add_patch(circle)\n",
    "class Layer():\n",
    "    def __init__(self, network, number_of_neurons, weights):\n",
    "        self.previous_layer = self.__get_previous_layer(network)\n",
    "        self.y = self.__calculate_layer_y_position()\n",
    "        self.neurons = self.__intialise_neurons(number_of_neurons)\n",
    "        self.weights = weights\n",
    "    def __intialise_neurons(self, number_of_neurons):\n",
    "        neurons = []\n",
    "        x = self.__calculate_left_margin_so_layer_is_centered(number_of_neurons)\n",
    "        for iteration in range(number_of_neurons):\n",
    "            neuron = Neuron(x, self.y)\n",
    "            neurons.append(neuron)\n",
    "            x += horizontal_distance_between_neurons\n",
    "        return neurons\n",
    "    def __calculate_left_margin_so_layer_is_centered(self, number_of_neurons):\n",
    "        return horizontal_distance_between_neurons * (number_of_neurons_in_widest_layer - number_of_neurons) / 2\n",
    "\n",
    "    def __calculate_layer_y_position(self):\n",
    "        if self.previous_layer:\n",
    "            return self.previous_layer.y + vertical_distance_between_layers\n",
    "        else:\n",
    "            return 0\n",
    "\n",
    "    def __get_previous_layer(self, network):\n",
    "        if len(network.layers) > 0:\n",
    "            return network.layers[-1]\n",
    "        else:\n",
    "            return None\n",
    "\n",
    "    def __line_between_two_neurons(self, neuron1, neuron2, linewidth):\n",
    "        angle = atan((neuron2.x - neuron1.x) / float(neuron2.y - neuron1.y))\n",
    "        x_adjustment = neuron_radius * sin(angle)\n",
    "        y_adjustment = neuron_radius * cos(angle)\n",
    "        line_x_data = (neuron1.x - x_adjustment, neuron2.x + x_adjustment)\n",
    "        line_y_data = (neuron1.y - y_adjustment, neuron2.y + y_adjustment)\n",
    "        line = pyplot.Line2D(line_x_data, line_y_data, linewidth=linewidth)\n",
    "        pyplot.gca().add_line(line)\n",
    "\n",
    "    def draw(self):\n",
    "        for this_layer_neuron_index in range(len(self.neurons)):\n",
    "            neuron = self.neurons[this_layer_neuron_index]\n",
    "            neuron.draw()\n",
    "            if self.previous_layer:\n",
    "                for previous_layer_neuron_index in range(len(self.previous_layer.neurons)):\n",
    "                    previous_layer_neuron = self.previous_layer.neurons[previous_layer_neuron_index]\n",
    "                    weight = self.previous_layer.weights[this_layer_neuron_index, previous_layer_neuron_index]\n",
    "                    self.__line_between_two_neurons(neuron, previous_layer_neuron, weight)\n",
    "\n",
    "\n",
    "class NeuralNetwork():\n",
    "    def __init__(self):\n",
    "        self.layers = []\n",
    "\n",
    "    def add_layer(self, number_of_neurons, weights=None):\n",
    "        layer = Layer(self, number_of_neurons, weights)\n",
    "        self.layers.append(layer)\n",
    "\n",
    "    def draw(self):\n",
    "        for layer in self.layers:\n",
    "            layer.draw()\n",
    "        pyplot.axis('scaled')\n",
    "        pyplot.show()\n",
    "\n",
    "\n",
    "if __name__ == \"__main__\":\n",
    "    vertical_distance_between_layers = 6\n",
    "    horizontal_distance_between_neurons = 5\n",
    "    neuron_radius = 0.5\n",
    "    number_of_neurons_in_widest_layer = 32\n",
    "    network = NeuralNetwork()\n",
    "    # weights to convert from 10 outputs to 4 (decimal digits to their binary representation)\n",
    "    weights1 = lil#\n",
    "    weights2=liol           #\n",
    "    weights3=loil           #\n",
    "               #\n",
    "               #\n",
    "    network.add_layer(32, weights1)\n",
    "    network.add_layer(16, weights2)\n",
    "    network.add_layer(10, weights3)\n",
    "    network.draw()\n",
    "    #plt.draw()\n",
    "    #kol=network#network.figure.savefig(\"Exampleau.png\")\n",
    "    kol=plt.figure()\n",
    "    #kol.savefig(\"exambleau.png\")\n",
    "    #network.saveas(\"exaplaue.png\")"
   ]
  },
  {
   "cell_type": "code",
   "execution_count": 516,
   "metadata": {},
   "outputs": [
    {
     "name": "stdout",
     "output_type": "stream",
     "text": [
      "(4,)\n",
      "4\n",
      "4\n",
      "5\n"
     ]
    }
   ],
   "source": [
    "pl=mlp.coefs_\n",
    "arrz=np.asarray(pl)\n",
    "print(arrz.shape)\n",
    "print(len(mlp.coefs_)\n",
    "     )\n",
    "pl.reverse()\n",
    "print(len(pl))\n",
    "print(mlp.n_layers_)\n"
   ]
  },
  {
   "cell_type": "code",
   "execution_count": 475,
   "metadata": {},
   "outputs": [
    {
     "name": "stdout",
     "output_type": "stream",
     "text": [
      "[-0.2760316228715818, 0.17289038758594252, 0.031192165621224455, 0.010714173243259767, 0.007548894831674174, 0.005203430167529166, 0.005002990174894362, 0.004818450280325459, 0.0033252869981849897, 0.003769153484823262, 0.003182369190282308, 0.002624983569925826, 0.0025680475070845032, 0.0019135130154621094, 0.0026278304630458216, 0.0011914499258849354, 0.0022936917227499853, 0.00069883346524241, 0.0021406327628272492, 0.0008455118380396864, 0.00042887073110767227, 0.0014950337636230326, 3.2352893415299455e-05, 0.0008515983147624473, 0.0010094257386228656, 0.0005408018400732961, -4.178876335761417e-05, 0.0007959257981434709, 0.0008220266314999114, 0.00021802671252782457, 0.00016906452967763164, 0.0006463888863875722, -0.00016181082584285078, 0.0007260552769730588, 0.0006028009800387313, -0.0005441765102221496, 0.0011039377725028388, 0.0006659564536133089, 0.000866529548203876, 0.0005027532300642401, 8.43380770891855e-05, 6.634253970125292e-05, -0.0002220393821353306, 0.0006428398528042223, 0.0012814723273071038, -0.000955384316119523, 0.0005784067233606249, -0.0007259218006432366]\n"
     ]
    },
    {
     "data": {
      "image/png": "[encoded data removed]",
      "text/plain": [
       "<Figure size 432x288 with 1 Axes>"
      ]
     },
     "metadata": {
      "needs_background": "light"
     },
     "output_type": "display_data"
    }
   ],
   "source": [
    "    plt.plot(KO)\n",
    "    plt.ylabel('difference in loss')\n",
    "    plt.xlabel('iterations')\n",
    "    print(KO)\n",
    "    "
   ]
  },
  {
   "cell_type": "code",
   "execution_count": 476,
   "metadata": {},
   "outputs": [],
   "source": [
    "predictions = mlp.predict(X_test)"
   ]
  },
  {
   "cell_type": "code",
   "execution_count": 477,
   "metadata": {},
   "outputs": [
    {
     "name": "stdout",
     "output_type": "stream",
     "text": [
      "[211 211 211 ... 321 211 321]\n"
     ]
    }
   ],
   "source": [
    "print(predictions)"
   ]
  },
  {
   "cell_type": "code",
   "execution_count": 478,
   "metadata": {},
   "outputs": [
    {
     "name": "stdout",
     "output_type": "stream",
     "text": [
      "Confusion matrix:\n",
      "[[12798   183]\n",
      " [  598  1801]]\n",
      "Classification report:\n",
      "             precision    recall  f1-score   support\n",
      "\n",
      "        211       0.96      0.99      0.97     12981\n",
      "        321       0.91      0.75      0.82      2399\n",
      "\n",
      "avg / total       0.95      0.95      0.95     15380\n",
      "\n"
     ]
    }
   ],
   "source": [
    "from sklearn.metrics import classification_report, confusion_matrix\n",
    "print(\"Confusion matrix:\")\n",
    "print(confusion_matrix(y_test,predictions))\n",
    "print(\"Classification report:\")\n",
    "print(classification_report(y_test,predictions))\n"
   ]
  },
  {
   "cell_type": "code",
   "execution_count": 479,
   "metadata": {},
   "outputs": [
    {
     "name": "stdout",
     "output_type": "stream",
     "text": [
      "63808    211\n",
      "1629     211\n",
      "59083    211\n",
      "49513    211\n",
      "38535    321\n",
      "Name: absid, dtype: category\n",
      "Categories (2, int64): [211, 321]\n"
     ]
    }
   ],
   "source": [
    "probabilities = mlp.predict_proba(X_test) # gives list of [prob_pion, prob_kaon]\n",
    "class_var = np.array( [ probabilities[i][0] for i in range(len(y_test)) ] )\n",
    "df_test = pd.DataFrame(data=X_test, columns=attributes)\n",
    "df_test[\"myMLP\"] = class_var\n",
    "df_test[\"absid\"] = y_test\n",
    "print(y_test.head())"
   ]
  },
  {
   "cell_type": "code",
   "execution_count": 480,
   "metadata": {},
   "outputs": [
    {
     "data": {
      "image/png": "[encoded data removed]",
      "text/plain": [
       "<Figure size 432x288 with 1 Axes>"
      ]
     },
     "metadata": {
      "needs_background": "light"
     },
     "output_type": "display_data"
    }
   ],
   "source": [
    "crit_pion = df_test['absid'] == 211\n",
    "crit_kaon = df_test['absid'] == 321\n",
    "df_test_pions = df_test[crit_pion]\n",
    "df_test_kaons = df_test[crit_kaon]\n",
    "\n",
    "df_test_pions[\"myMLP\"].plot.hist(bins=50, range=(0,1), alpha=0.5, density=True, label=\"pions\")\n",
    "df_test_kaons[\"myMLP\"].plot.hist(bins=50, range=(0,1), alpha=0.5, density=True, label=\"kaons\")\n",
    "plt.legend(loc='upper left')\n",
    "plt.xlabel(\"myMLP classifier\")\n",
    "plt.show()"
   ]
  },
  {
   "cell_type": "code",
   "execution_count": 33,
   "metadata": {},
   "outputs": [
    {
     "data": {
      "text/plain": [
       "<Figure size 432x288 with 0 Axes>"
      ]
     },
     "metadata": {},
     "output_type": "display_data"
    }
   ],
   "source": [
    "ff = plt.figure()\n",
    "ff.savefig(\"myMLP_performance.pdf\", bbox_inches='tight')"
   ]
  },
  {
   "cell_type": "code",
   "execution_count": 553,
   "metadata": {},
   "outputs": [
    {
     "data": {
      "image/png": "[encoded data removed]",
      "text/plain": [
       "<Figure size 432x288 with 1 Axes>"
      ]
     },
     "metadata": {
      "needs_background": "light"
     },
     "output_type": "display_data"
    }
   ],
   "source": [
    "from matplotlib import pyplot\n",
    "from math import cos, sin, atan\n",
    "\n",
    "\n",
    "class Neuron():\n",
    "    def __init__(self, x, y):\n",
    "        self.x = x\n",
    "        self.y = y\n",
    "\n",
    "    def draw(self, neuron_radius):\n",
    "        circle = pyplot.Circle((self.x, self.y), radius=neuron_radius, fill=False)\n",
    "        pyplot.gca().add_patch(circle)\n",
    "\n",
    "\n",
    "class Layer():\n",
    "    def __init__(self, network, number_of_neurons, number_of_neurons_in_widest_layer):\n",
    "        self.vertical_distance_between_layers = 6\n",
    "        self.horizontal_distance_between_neurons = 2\n",
    "        self.neuron_radius = 0.5\n",
    "        self.number_of_neurons_in_widest_layer = number_of_neurons_in_widest_layer\n",
    "        self.previous_layer = self.__get_previous_layer(network)\n",
    "        self.y = self.__calculate_layer_y_position()\n",
    "        self.neurons = self.__intialise_neurons(number_of_neurons)\n",
    "\n",
    "    def __intialise_neurons(self, number_of_neurons):\n",
    "        neurons = []\n",
    "        x = self.__calculate_left_margin_so_layer_is_centered(number_of_neurons)\n",
    "        for iteration in range(number_of_neurons):\n",
    "            neuron = Neuron(x, self.y)\n",
    "            neurons.append(neuron)\n",
    "            x += self.horizontal_distance_between_neurons\n",
    "        return neurons\n",
    "\n",
    "    def __calculate_left_margin_so_layer_is_centered(self, number_of_neurons):\n",
    "        return self.horizontal_distance_between_neurons * (self.number_of_neurons_in_widest_layer - number_of_neurons) / 2\n",
    "\n",
    "    def __calculate_layer_y_position(self):\n",
    "        if self.previous_layer:\n",
    "            return self.previous_layer.y + self.vertical_distance_between_layers\n",
    "        else:\n",
    "            return 0\n",
    "\n",
    "    def __get_previous_layer(self, network):\n",
    "        if len(network.layers) > 0:\n",
    "            return network.layers[-1]\n",
    "        else:\n",
    "            return None\n",
    "\n",
    "    def __line_between_two_neurons(self, neuron1, neuron2):\n",
    "        angle = atan((neuron2.x - neuron1.x) / float(neuron2.y - neuron1.y))\n",
    "        x_adjustment = self.neuron_radius * sin(angle)\n",
    "        y_adjustment = self.neuron_radius * cos(angle)\n",
    "        line = pyplot.Line2D((neuron1.x - x_adjustment, neuron2.x + x_adjustment), (neuron1.y - y_adjustment, neuron2.y + y_adjustment))\n",
    "        pyplot.gca().add_line(line)\n",
    "\n",
    "    def draw(self, layerType=0):\n",
    "        for neuron in self.neurons:\n",
    "            neuron.draw( self.neuron_radius )\n",
    "            if self.previous_layer:\n",
    "                for previous_layer_neuron in self.previous_layer.neurons:\n",
    "                    self.__line_between_two_neurons(neuron, previous_layer_neuron)\n",
    "        # write Text\n",
    "        x_text = self.number_of_neurons_in_widest_layer * self.horizontal_distance_between_neurons\n",
    "        if layerType == 0:\n",
    "            pyplot.text(x_text, self.y, 'Input Layer', fontsize = 12)\n",
    "        elif layerType == -1:\n",
    "            pyplot.text(x_text, self.y, 'Output Layer', fontsize = 12)\n",
    "        else:\n",
    "            pyplot.text(x_text, self.y, 'Hidden Layer '+str(layerType), fontsize = 12)\n",
    "\n",
    "class NeuralNetwork():\n",
    "    def __init__(self, number_of_neurons_in_widest_layer):\n",
    "        self.number_of_neurons_in_widest_layer = number_of_neurons_in_widest_layer\n",
    "        self.layers = []\n",
    "        self.layertype = 0\n",
    "\n",
    "    def add_layer(self, number_of_neurons ):\n",
    "        layer = Layer(self, number_of_neurons, self.number_of_neurons_in_widest_layer)\n",
    "        self.layers.append(layer)\n",
    "\n",
    "    def draw(self):\n",
    "        pyplot.figure()\n",
    "        for i in range( len(self.layers) ):\n",
    "            layer = self.layers[i]\n",
    "            if i == len(self.layers)-1:\n",
    "                i = -1\n",
    "            layer.draw( i )\n",
    "        pyplot.axis('scaled')\n",
    "        pyplot.axis('off')\n",
    "        pyplot.title( 'our neural net', fontsize=15 )\n",
    "        pyplot.show()\n",
    "\n",
    "class DrawNN():\n",
    "    def __init__( self, neural_network ):\n",
    "        self.neural_network = neural_network\n",
    "\n",
    "    def draw( self ):\n",
    "        widest_layer = max( self.neural_network )\n",
    "        network = NeuralNetwork( widest_layer )\n",
    "        for l in self.neural_network:\n",
    "            network.add_layer(l)\n",
    "        network.draw()\n",
    "        \n",
    "network1 = DrawNN( akk )\n",
    "network1.draw()\n"
   ]
  },
  {
   "cell_type": "code",
   "execution_count": null,
   "metadata": {},
   "outputs": [],
   "source": []
  }
 ],
 "metadata": {
  "kernelspec": {
   "display_name": "Python 3",
   "language": "python",
   "name": "python3"
  },
  "language_info": {
   "codemirror_mode": {
    "name": "ipython",
    "version": 3
   },
   "file_extension": ".py",
   "mimetype": "text/x-python",
   "name": "python",
   "nbconvert_exporter": "python",
   "pygments_lexer": "ipython3",
   "version": "3.5.3"
  }
 },
 "nbformat": 4,
 "nbformat_minor": 2
}
