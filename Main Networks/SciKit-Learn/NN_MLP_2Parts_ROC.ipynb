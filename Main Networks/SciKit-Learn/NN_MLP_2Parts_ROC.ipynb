{
 "cells": [
  {
   "cell_type": "code",
   "execution_count": 2,
   "metadata": {},
   "outputs": [],
   "source": [
    "# This script contains a neural-net algorithm to distinguish between 3 particle types (pions, kaons, and muons)\n",
    "# The code is based on the sci-kit learn example by jackfrost373, also available in the present Git-repository\n",
    "\n",
    "\n",
    "import uproot\n",
    "import pandas as pd\n",
    "import numpy as np\n",
    "import matplotlib.pyplot as plt\n",
    "\n",
    "# get training data from the simulation-tree\n",
    "tfile = uproot.open('/home/Shared/lhcbdata/davinci_MC_PID.root')\n",
    "tree = tfile[\"PiTree/DecayTree\"]\n",
    "df = tree.pandas.df()\n",
    "#print(df.head())\n"
   ]
  },
  {
   "cell_type": "code",
   "execution_count": 3,
   "metadata": {},
   "outputs": [
    {
     "name": "stdout",
     "output_type": "stream",
     "text": [
      "211     60058\n",
      "321     11217\n",
      "0        9015\n",
      "2212     6650\n",
      "13       4983\n",
      "11       3616\n",
      "3222       34\n",
      "3112       10\n",
      "3312        4\n",
      "Name: absid, dtype: int64\n"
     ]
    }
   ],
   "source": [
    "# make new PID label abs (so that particles and their antis are seen equivalently)\n",
    "df['absid'] = df['pi_TRUEID'].abs()\n",
    "\n",
    "print(df['absid'].value_counts()) # number of times each particle was detected"
   ]
  },
  {
   "cell_type": "code",
   "execution_count": 4,
   "metadata": {},
   "outputs": [],
   "source": [
    "# make cuts on dataset \n",
    "# pion = 211, kaon = 321, proton = 2212\n",
    "\n",
    "crit_global = (df['pi_TRACK_time_err'] > 0.1) & (df['pi_P'] > 1200) #insert threshold values for track time error and momentum\n",
    "crit_types  = (abs(df['pi_TRUEID']) == 211) |  (abs(df['pi_TRUEID']) == 2212) # only pion or kaon or proton\n",
    "dfsel = df[crit_global & crit_types]\n",
    "#print(dfsel)\n",
    "\n",
    "#(abs(df['pi_TRUEID']) == 321) |"
   ]
  },
  {
   "cell_type": "code",
   "execution_count": 5,
   "metadata": {},
   "outputs": [],
   "source": [
    "# define 'attributes' to train on: (i.e. which variables?)\n",
    "\n",
    "##########################\n",
    "attributesTRACK = ['TrackP','TrackPt','TrackChi2PerDof','TrackNumDof','TrackLikelihood','TrackFitTChi2','TrackFitTNDoF','TrackFitMatchChi2',\n",
    "                     'TrackGhostProbability','TrackCloneDist','TrackFitVeloChi2','TrackFitVeloNDoF',]\n",
    "attributesRICH = ['RichUsedAero', 'RichUsedR1Gas', 'RichUsedR2Gas', 'RichAboveMuThres', 'RichAboveKaThres']\n",
    "attributesDLLS = ['RichDLLe','RichDLLmu','RichDLLk','RichDLLp','RichDLLbt']\n",
    "attributesCALO = ['EcalPIDe', 'EcalPIDmu', 'HcalPIDe', 'HcalPIDmu', 'PrsPIDe', 'InAccBrem', 'BremPIDe']\n",
    "attributesOther = ['VeloCharge', 'pi_TRACK_time','pi_TRACK_time_err']\n",
    "attributes = attributesTRACK + attributesRICH + attributesDLLS + attributesCALO + attributesOther\n",
    "X = dfsel.loc[ :, attributes ]\n",
    "\n",
    "#print(X.head())\n"
   ]
  },
  {
   "cell_type": "code",
   "execution_count": 6,
   "metadata": {},
   "outputs": [
    {
     "name": "stdout",
     "output_type": "stream",
     "text": [
      "0    211\n",
      "2    211\n",
      "3    211\n",
      "4    211\n",
      "6    211\n",
      "Name: absid, dtype: category\n",
      "Categories (2, int64): [211, 2212]\n"
     ]
    }
   ],
   "source": [
    "# define the numerical IDs (e.g ±211) as'labels' for the distinct particle types\n",
    "\n",
    "y = dfsel['absid'].astype('category')\n",
    "print(y.head())"
   ]
  },
  {
   "cell_type": "code",
   "execution_count": null,
   "metadata": {},
   "outputs": [],
   "source": []
  },
  {
   "cell_type": "code",
   "execution_count": 7,
   "metadata": {},
   "outputs": [],
   "source": [
    "# split sample into training and testing sets w/ an inbuilt scikit function\n",
    "#for that: input data and the labels that classify it\n",
    "from sklearn.model_selection import train_test_split\n",
    "X_train, X_test, y_train, y_test = train_test_split(X, y, test_size = 0.20)\n",
    "\n",
    "\n"
   ]
  },
  {
   "cell_type": "markdown",
   "metadata": {},
   "source": [
    "\n"
   ]
  },
  {
   "cell_type": "code",
   "execution_count": null,
   "metadata": {},
   "outputs": [],
   "source": [
    "\n",
    "# Now follows the machine learning bit..."
   ]
  },
  {
   "cell_type": "code",
   "execution_count": 8,
   "metadata": {},
   "outputs": [
    {
     "name": "stderr",
     "output_type": "stream",
     "text": [
      "/usr/local/lib/python3.5/dist-packages/sklearn/preprocessing/data.py:625: DataConversionWarning: Data with input dtype float32, float64 were all converted to float64 by StandardScaler.\n",
      "  return self.partial_fit(X, y)\n",
      "/usr/local/lib/python3.5/dist-packages/ipykernel_launcher.py:5: DataConversionWarning: Data with input dtype float32, float64 were all converted to float64 by StandardScaler.\n",
      "  \"\"\"\n",
      "/usr/local/lib/python3.5/dist-packages/ipykernel_launcher.py:6: DataConversionWarning: Data with input dtype float32, float64 were all converted to float64 by StandardScaler.\n",
      "  \n"
     ]
    }
   ],
   "source": [
    "# feature scaler\n",
    "from sklearn.preprocessing import StandardScaler\n",
    "scaler = StandardScaler()\n",
    "scaler.fit(X_train)\n",
    "X_train = scaler.transform(X_train)\n",
    "X_test = scaler.transform(X_test)\n"
   ]
  },
  {
   "cell_type": "code",
   "execution_count": 9,
   "metadata": {},
   "outputs": [
    {
     "name": "stdout",
     "output_type": "stream",
     "text": [
      "Training...\n",
      "Iteration 1, loss = 0.35761412\n",
      "Iteration 2, loss = 0.18016851\n",
      "Iteration 3, loss = 0.12745583\n",
      "Iteration 4, loss = 0.12011086\n",
      "Iteration 5, loss = 0.11570682\n",
      "Iteration 6, loss = 0.11455155\n",
      "Iteration 7, loss = 0.11267342\n",
      "Iteration 8, loss = 0.11185832\n",
      "Iteration 9, loss = 0.11123471\n",
      "Iteration 10, loss = 0.11035007\n",
      "Iteration 11, loss = 0.10909068\n",
      "Iteration 12, loss = 0.10803450\n",
      "Iteration 13, loss = 0.10769587\n",
      "Iteration 14, loss = 0.10726678\n",
      "Iteration 15, loss = 0.10710954\n",
      "Iteration 16, loss = 0.10638107\n",
      "Iteration 17, loss = 0.10533464\n",
      "Iteration 18, loss = 0.10544921\n",
      "Iteration 19, loss = 0.10480564\n",
      "Iteration 20, loss = 0.10395133\n",
      "Iteration 21, loss = 0.10370600\n",
      "Iteration 22, loss = 0.10365751\n",
      "Iteration 23, loss = 0.10325956\n",
      "Iteration 24, loss = 0.10302905\n",
      "Iteration 25, loss = 0.10290665\n",
      "Iteration 26, loss = 0.10215544\n",
      "Iteration 27, loss = 0.10216074\n",
      "Iteration 28, loss = 0.10174494\n",
      "Iteration 29, loss = 0.10216133\n",
      "Iteration 30, loss = 0.10133444\n",
      "Iteration 31, loss = 0.10106815\n",
      "Iteration 32, loss = 0.10044745\n",
      "Iteration 33, loss = 0.10097385\n",
      "Iteration 34, loss = 0.10036000\n",
      "Iteration 35, loss = 0.10031450\n",
      "Iteration 36, loss = 0.09976105\n",
      "Iteration 37, loss = 0.09940954\n",
      "Iteration 38, loss = 0.09972440\n",
      "Iteration 39, loss = 0.09937657\n",
      "Iteration 40, loss = 0.09920438\n",
      "Iteration 41, loss = 0.09829016\n",
      "Iteration 42, loss = 0.09882975\n",
      "Iteration 43, loss = 0.09864831\n",
      "Iteration 44, loss = 0.09765571\n",
      "Iteration 45, loss = 0.09803146\n",
      "Iteration 46, loss = 0.09764972\n",
      "Iteration 47, loss = 0.09732860\n",
      "Iteration 48, loss = 0.09756251\n",
      "Iteration 49, loss = 0.09770924\n",
      "Iteration 50, loss = 0.09724667\n",
      "Iteration 51, loss = 0.09693818\n",
      "Iteration 52, loss = 0.09634665\n",
      "Iteration 53, loss = 0.09742592\n",
      "Iteration 54, loss = 0.09655108\n",
      "Iteration 55, loss = 0.09672208\n",
      "Iteration 56, loss = 0.09652637\n",
      "Iteration 57, loss = 0.09657058\n",
      "Iteration 58, loss = 0.09673175\n",
      "Iteration 59, loss = 0.09597733\n",
      "Iteration 60, loss = 0.09663091\n",
      "Iteration 61, loss = 0.09578696\n",
      "Iteration 62, loss = 0.09599399\n",
      "Iteration 63, loss = 0.09628215\n",
      "Iteration 64, loss = 0.09549007\n",
      "Iteration 65, loss = 0.09494938\n",
      "Iteration 66, loss = 0.09510455\n",
      "Iteration 67, loss = 0.09494839\n",
      "Iteration 68, loss = 0.09524507\n",
      "Iteration 69, loss = 0.09553745\n",
      "Iteration 70, loss = 0.09469384\n",
      "Iteration 71, loss = 0.09511009\n",
      "Iteration 72, loss = 0.09425888\n",
      "Iteration 73, loss = 0.09432149\n",
      "Iteration 74, loss = 0.09439227\n",
      "Iteration 75, loss = 0.09420951\n",
      "Iteration 76, loss = 0.09428849\n",
      "Iteration 77, loss = 0.09426531\n",
      "Iteration 78, loss = 0.09423450\n",
      "Iteration 79, loss = 0.09422818\n",
      "Iteration 80, loss = 0.09417022\n",
      "Iteration 81, loss = 0.09393472\n",
      "Iteration 82, loss = 0.09293891\n",
      "Iteration 83, loss = 0.09344429\n",
      "Iteration 84, loss = 0.09381421\n",
      "Iteration 85, loss = 0.09372417\n",
      "Iteration 86, loss = 0.09276474\n",
      "Iteration 87, loss = 0.09410862\n",
      "Iteration 88, loss = 0.09277420\n",
      "Iteration 89, loss = 0.09277078\n",
      "Iteration 90, loss = 0.09302475\n",
      "Iteration 91, loss = 0.09284792\n",
      "Iteration 92, loss = 0.09279181\n",
      "Iteration 93, loss = 0.09307296\n",
      "Iteration 94, loss = 0.09216958\n",
      "Iteration 95, loss = 0.09278516\n",
      "Iteration 96, loss = 0.09252762\n",
      "Iteration 97, loss = 0.09239881\n",
      "Iteration 98, loss = 0.09221413\n",
      "Iteration 99, loss = 0.09205980\n",
      "Iteration 100, loss = 0.09223635\n",
      "Iteration 101, loss = 0.09184090\n",
      "Iteration 102, loss = 0.09203768\n",
      "Iteration 103, loss = 0.09213281\n",
      "Iteration 104, loss = 0.09155919\n",
      "Iteration 105, loss = 0.09153029\n",
      "Iteration 106, loss = 0.09161112\n",
      "Iteration 107, loss = 0.09158040\n",
      "Iteration 108, loss = 0.09165281\n",
      "Iteration 109, loss = 0.09126563\n",
      "Iteration 110, loss = 0.09087063\n",
      "Iteration 111, loss = 0.09151134\n",
      "Iteration 112, loss = 0.09092182\n",
      "Iteration 113, loss = 0.09061778\n",
      "Iteration 114, loss = 0.09089785\n",
      "Iteration 115, loss = 0.09098102\n",
      "Iteration 116, loss = 0.09133525\n",
      "Iteration 117, loss = 0.09065469\n",
      "Iteration 118, loss = 0.09102059\n",
      "Iteration 119, loss = 0.09028553\n",
      "Iteration 120, loss = 0.09007619\n",
      "Iteration 121, loss = 0.09018491\n",
      "Iteration 122, loss = 0.09020275\n",
      "Iteration 123, loss = 0.09015931\n",
      "Iteration 124, loss = 0.09064945\n",
      "Iteration 125, loss = 0.09026994\n",
      "Iteration 126, loss = 0.08951044\n",
      "Iteration 127, loss = 0.08985418\n",
      "Iteration 128, loss = 0.08964595\n",
      "Iteration 129, loss = 0.08943824\n",
      "Iteration 130, loss = 0.08950625\n",
      "Iteration 131, loss = 0.08936015\n",
      "Iteration 132, loss = 0.08962154\n",
      "Iteration 133, loss = 0.08970648\n",
      "Iteration 134, loss = 0.08990678\n",
      "Iteration 135, loss = 0.08924981\n",
      "Iteration 136, loss = 0.08869249\n",
      "Iteration 137, loss = 0.08944644\n",
      "Iteration 138, loss = 0.08918706\n",
      "Iteration 139, loss = 0.08907752\n",
      "Iteration 140, loss = 0.08927575\n",
      "Iteration 141, loss = 0.08919586\n",
      "Iteration 142, loss = 0.08925274\n",
      "Iteration 143, loss = 0.08839893\n",
      "Iteration 144, loss = 0.08836136\n",
      "Iteration 145, loss = 0.08832930\n",
      "Iteration 146, loss = 0.08817903\n",
      "Iteration 147, loss = 0.08857909\n",
      "Iteration 148, loss = 0.08825578\n",
      "Iteration 149, loss = 0.08818072\n",
      "Iteration 150, loss = 0.08825233\n",
      "Iteration 151, loss = 0.08782515\n",
      "Iteration 152, loss = 0.08766006\n",
      "Iteration 153, loss = 0.08818888\n",
      "Iteration 154, loss = 0.08739747\n",
      "Iteration 155, loss = 0.08766671\n",
      "Iteration 156, loss = 0.08726103\n",
      "Iteration 157, loss = 0.08750409\n",
      "Iteration 158, loss = 0.08740361\n",
      "Iteration 159, loss = 0.08789053\n",
      "Iteration 160, loss = 0.08748243\n",
      "Iteration 161, loss = 0.08720190\n",
      "Iteration 162, loss = 0.08732353\n",
      "Iteration 163, loss = 0.08751689\n",
      "Iteration 164, loss = 0.08779606\n",
      "Iteration 165, loss = 0.08742951\n",
      "Iteration 166, loss = 0.08704295\n",
      "Iteration 167, loss = 0.08683503\n",
      "Iteration 168, loss = 0.08675829\n",
      "Iteration 169, loss = 0.08670496\n",
      "Iteration 170, loss = 0.08670564\n",
      "Iteration 171, loss = 0.08746126\n",
      "Iteration 172, loss = 0.08683980\n",
      "Iteration 173, loss = 0.08662065\n",
      "Iteration 174, loss = 0.08659989\n",
      "Iteration 175, loss = 0.08655425\n",
      "Iteration 176, loss = 0.08583588\n",
      "Iteration 177, loss = 0.08618355\n",
      "Iteration 178, loss = 0.08591563\n",
      "Iteration 179, loss = 0.08629358\n",
      "Iteration 180, loss = 0.08604260\n",
      "Iteration 181, loss = 0.08606374\n",
      "Iteration 182, loss = 0.08541582\n",
      "Iteration 183, loss = 0.08567723\n",
      "Iteration 184, loss = 0.08571174\n",
      "Iteration 185, loss = 0.08580709\n",
      "Iteration 186, loss = 0.08546818\n",
      "Iteration 187, loss = 0.08534319\n",
      "Iteration 188, loss = 0.08592273\n",
      "Iteration 189, loss = 0.08538324\n",
      "Iteration 190, loss = 0.08537768\n",
      "Iteration 191, loss = 0.08512605\n",
      "Iteration 192, loss = 0.08554460\n",
      "Iteration 193, loss = 0.08553615\n",
      "Iteration 194, loss = 0.08531029\n",
      "Iteration 195, loss = 0.08523583\n",
      "Iteration 196, loss = 0.08544451\n",
      "Iteration 197, loss = 0.08478317\n",
      "Iteration 198, loss = 0.08475752\n",
      "Iteration 199, loss = 0.08515293\n",
      "Iteration 200, loss = 0.08476820\n"
     ]
    },
    {
     "name": "stderr",
     "output_type": "stream",
     "text": [
      "/usr/local/lib/python3.5/dist-packages/sklearn/neural_network/multilayer_perceptron.py:562: ConvergenceWarning: Stochastic Optimizer: Maximum iterations (200) reached and the optimization hasn't converged yet.\n",
      "  % self.max_iter, ConvergenceWarning)\n"
     ]
    },
    {
     "data": {
      "text/plain": [
       "MLPClassifier(activation='relu', alpha=0.0001, batch_size='auto', beta_1=0.9,\n",
       "       beta_2=0.999, early_stopping=False, epsilon=1e-08,\n",
       "       hidden_layer_sizes=(32, 16, 10), learning_rate='constant',\n",
       "       learning_rate_init=0.001, max_iter=200, momentum=0.9,\n",
       "       n_iter_no_change=10, nesterovs_momentum=True, power_t=0.5,\n",
       "       random_state=None, shuffle=True, solver='adam', tol=0.0001,\n",
       "       validation_fraction=0.1, verbose=1, warm_start=False)"
      ]
     },
     "execution_count": 9,
     "metadata": {},
     "output_type": "execute_result"
    }
   ],
   "source": [
    "#train with My little pony... \n",
    "print(\"Training...\") \n",
    "from sklearn.neural_network import MLPClassifier \n",
    "mlp = MLPClassifier(hidden_layer_sizes=(len(attributes), int(len(attributes)/2), 10), max_iter=200, activation='relu', solver='adam', verbose=1)\n",
    "mlp.fit(X_train, y_train.values.ravel())\n"
   ]
  },
  {
   "cell_type": "code",
   "execution_count": 10,
   "metadata": {},
   "outputs": [
    {
     "name": "stdout",
     "output_type": "stream",
     "text": [
      "Confusion matrix:\n",
      "[[10201   205]\n",
      " [  280   838]]\n",
      "Classification report:\n",
      "              precision    recall  f1-score   support\n",
      "\n",
      "         211       0.97      0.98      0.98     10406\n",
      "        2212       0.80      0.75      0.78      1118\n",
      "\n",
      "   micro avg       0.96      0.96      0.96     11524\n",
      "   macro avg       0.89      0.86      0.88     11524\n",
      "weighted avg       0.96      0.96      0.96     11524\n",
      "\n"
     ]
    }
   ],
   "source": [
    "# make label predictions on test data\n",
    "predictions = mlp.predict(X_test)\n",
    "\n",
    "# evaluation\n",
    "from sklearn.metrics import classification_report, confusion_matrix\n",
    "print(\"Confusion matrix:\")\n",
    "print(confusion_matrix(y_test,predictions))\n",
    "print(\"Classification report:\")\n",
    "print(classification_report(y_test,predictions))"
   ]
  },
  {
   "cell_type": "code",
   "execution_count": null,
   "metadata": {},
   "outputs": [],
   "source": [
    "# cell reserved to \"read in\" experimental data later\n",
    "...\n",
    "\n"
   ]
  },
  {
   "cell_type": "code",
   "execution_count": 24,
   "metadata": {},
   "outputs": [
    {
     "data": {
      "image/png": "[encoded data removed]",
      "text/plain": [
       "<Figure size 432x288 with 1 Axes>"
      ]
     },
     "metadata": {
      "needs_background": "light"
     },
     "output_type": "display_data"
    },
    {
     "data": {
      "text/plain": [
       "<Figure size 432x288 with 0 Axes>"
      ]
     },
     "metadata": {},
     "output_type": "display_data"
    }
   ],
   "source": [
    "# create a classification variable based on the prediction probability\n",
    "probabilities = mlp.predict_proba(X_test) # gives list of [prob_pion, prob_kaon]\n",
    "class_var = np.array( [ probabilities[i][0] for i in range(len(y_test)) ] ) # list of prob_pion\n",
    "y_labels = np.array([y_test[:][i] for i in range(len(y_test)) ] ) #this is the original testing data \n",
    "y_labels_b = (y_labels==211).astype(int)\n",
    "\n",
    "df_test = pd.DataFrame(data=X_test, columns=attributes)\n",
    "df_test[\"myMLP\"] = class_var\n",
    "df_test[\"absid\"] = y_test\n",
    "\n",
    "# plot this variable for the 3 categories, aka particle types\n",
    "crit_pion = df_test['absid'] == 211\n",
    "#crit_kaon = df_test['absid'] == 321\n",
    "crit_proton = df_test['absid'] == 2212\n",
    "df_test_pions = df_test[crit_pion]\n",
    "#df_test_kaons = df_test[crit_kaon]\n",
    "df_test_protons = df_test[crit_proton]\n",
    "\n",
    "df_test_pions[\"myMLP\"].plot.hist(bins=50, range=(0,1), alpha=0.5, density=True, label=\"pions\")\n",
    "#df_test_kaons[\"myMLP\"].plot.hist(bins=50, range=(0,1), alpha=0.5, density=True, label=\"kaons\")\n",
    "df_test_protons[\"myMLP\"].plot.hist(bins=50, range=(0,1), alpha=0.5, density=True, label=\"protons\")\n",
    "plt.legend(loc='upper right')\n",
    "plt.xlabel(\"myMLP classifier\")\n",
    "plt.show()\n",
    "\n",
    "f = plt.figure()\n",
    "f.savefig(\"myMLP_performance.pdf\", bbox_inches='tight')"
   ]
  },
  {
   "cell_type": "code",
   "execution_count": 23,
   "metadata": {},
   "outputs": [],
   "source": [
    "#plot ROC curve\n",
    "from sklearn.metrics import roc_curve\n",
    "from sklearn.metrics import auc\n",
    "import matplotlib.pyplot as plt\n",
    "\n",
    "from sklearn.metrics import roc_curve\n",
    "fpr, tpr , thresholds = roc_curve(y_labels_b, class_var)\n",
    "\n",
    "plt.figure(1)\n",
    "plt.plot([0, 1], [0, 1], 'k--')\n",
    "plt.plot(fpr,tpr)\n",
    "plt.xlabel('False positive rate')\n",
    "plt.ylabel('True positive rate')\n",
    "plt.title('ROC curve')\n",
    "#plt.legend(loc='best')\n",
    "plt.show()\n",
    "\n"
   ]
  },
  {
   "cell_type": "code",
   "execution_count": 19,
   "metadata": {},
   "outputs": [
    {
     "name": "stdout",
     "output_type": "stream",
     "text": [
      "[211 211 211 ... 211 211 211]\n"
     ]
    }
   ],
   "source": [
    "\n"
   ]
  },
  {
   "cell_type": "code",
   "execution_count": 21,
   "metadata": {},
   "outputs": [
    {
     "name": "stdout",
     "output_type": "stream",
     "text": [
      "[211 211 211 ... 211 211 211]\n"
     ]
    }
   ],
   "source": []
  },
  {
   "cell_type": "code",
   "execution_count": null,
   "metadata": {},
   "outputs": [],
   "source": []
  },
  {
   "cell_type": "code",
   "execution_count": 26,
   "metadata": {},
   "outputs": [
    {
     "data": {
      "image/png": "[encoded data removed]",
      "text/plain": [
       "<Figure size 432x288 with 1 Axes>"
      ]
     },
     "metadata": {
      "needs_background": "light"
     },
     "output_type": "display_data"
    }
   ],
   "source": []
  },
  {
   "cell_type": "code",
   "execution_count": null,
   "metadata": {},
   "outputs": [],
   "source": []
  },
  {
   "cell_type": "code",
   "execution_count": null,
   "metadata": {},
   "outputs": [],
   "source": []
  },
  {
   "cell_type": "code",
   "execution_count": null,
   "metadata": {},
   "outputs": [],
   "source": []
  }
 ],
 "metadata": {
  "kernelspec": {
   "display_name": "Python 3",
   "language": "python",
   "name": "python3"
  },
  "language_info": {
   "codemirror_mode": {
    "name": "ipython",
    "version": 3
   },
   "file_extension": ".py",
   "mimetype": "text/x-python",
   "name": "python",
   "nbconvert_exporter": "python",
   "pygments_lexer": "ipython3",
   "version": "3.5.3"
  }
 },
 "nbformat": 4,
 "nbformat_minor": 2
}
