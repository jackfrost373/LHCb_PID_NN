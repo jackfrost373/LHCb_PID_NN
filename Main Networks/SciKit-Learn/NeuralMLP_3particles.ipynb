{
 "cells": [
  {
   "cell_type": "code",
   "execution_count": 1,
   "metadata": {},
   "outputs": [],
   "source": [
    "# This script contains a neural-net algorithm to distinguish between 3 particle types (pions, kaons, and muons)\n",
    "# The code is based on the sci-kit learn example by jackfrost373, also available in the present Git-repository\n",
    "\n",
    "\n",
    "import uproot\n",
    "import pandas as pd\n",
    "import numpy as np\n",
    "import matplotlib.pyplot as plt\n",
    "\n",
    "# get training data from the simulation-tree\n",
    "tfile = uproot.open('/home/Shared/lhcbdata/davinci_MC_PID.root')\n",
    "tree = tfile[\"PiTree/DecayTree\"]\n",
    "df = tree.pandas.df()\n",
    "#print(df.head())\n"
   ]
  },
  {
   "cell_type": "code",
   "execution_count": 2,
   "metadata": {},
   "outputs": [
    {
     "name": "stdout",
     "output_type": "stream",
     "text": [
      "211     60058\n",
      "321     11217\n",
      "0        9015\n",
      "2212     6650\n",
      "13       4983\n",
      "11       3616\n",
      "3222       34\n",
      "3112       10\n",
      "3312        4\n",
      "Name: absid, dtype: int64\n"
     ]
    }
   ],
   "source": [
    "# make new PID label abs (so that particles and their antis are seen equivalently)\n",
    "df['absid'] = df['pi_TRUEID'].abs()\n",
    "\n",
    "print(df['absid'].value_counts()) # number of times each particle was detected"
   ]
  },
  {
   "cell_type": "code",
   "execution_count": 3,
   "metadata": {},
   "outputs": [],
   "source": [
    "# make cuts on dataset \n",
    "# pion = 211, kaon = 321, proton = 2212\n",
    "\n",
    "crit_global = (df['pi_TRACK_time_err'] > 0.1) & (df['pi_P'] > 1200) #insert threshold values for track time error and momentum\n",
    "crit_types  = (abs(df['pi_TRUEID']) == 211) | (abs(df['pi_TRUEID']) == 321) | (abs(df['pi_TRUEID']) == 2212) # only pion or kaon or proton\n",
    "dfsel = df[crit_global & crit_types]\n",
    "#print(dfsel)"
   ]
  },
  {
   "cell_type": "code",
   "execution_count": 5,
   "metadata": {},
   "outputs": [],
   "source": [
    "# define 'attributes' to train on: (i.e. which variables?)\n",
    "\n",
    "##########################\n",
    "attributesTRACK = ['TrackP','TrackPt','TrackChi2PerDof','TrackNumDof','TrackLikelihood','TrackFitTChi2','TrackFitTNDoF','TrackFitMatchChi2',\n",
    "                     'TrackGhostProbability','TrackCloneDist','TrackFitVeloChi2','TrackFitVeloNDoF',]\n",
    "attributesRICH = ['RichUsedAero', 'RichUsedR1Gas', 'RichUsedR2Gas', 'RichAboveMuThres', 'RichAboveKaThres']\n",
    "attributesDLLS = ['RichDLLe','RichDLLmu','RichDLLk','RichDLLp','RichDLLbt']\n",
    "attributesCALO = ['EcalPIDe', 'EcalPIDmu', 'HcalPIDe', 'HcalPIDmu', 'PrsPIDe', 'InAccBrem', 'BremPIDe']\n",
    "attributesOther = ['VeloCharge', 'pi_TRACK_time','pi_TRACK_time_err']\n",
    "attributes = attributesTRACK + attributesRICH + attributesDLLS + attributesCALO + attributesOther\n",
    "X = dfsel.loc[ :, attributes ]\n",
    "\n",
    "#print(X.head())\n"
   ]
  },
  {
   "cell_type": "code",
   "execution_count": null,
   "metadata": {},
   "outputs": [],
   "source": [
    "# define the numerical IDs (e.g ±211) as'labels' for the distinct particle types\n",
    "\n",
    "y = dfsel['absid'].astype('category')\n",
    "print(y.head())"
   ]
  },
  {
   "cell_type": "code",
   "execution_count": 7,
   "metadata": {},
   "outputs": [],
   "source": []
  },
  {
   "cell_type": "code",
   "execution_count": 8,
   "metadata": {},
   "outputs": [],
   "source": [
    "# split sample into training and testing sets w/ an inbuilt scikit function\n",
    "#for that: input data and the labels that classify it\n",
    "from sklearn.model_selection import train_test_split\n",
    "X_train, X_test, y_train, y_test = train_test_split(X, y, test_size = 0.20)\n",
    "\n",
    "\n"
   ]
  },
  {
   "cell_type": "markdown",
   "metadata": {},
   "source": [
    "\n"
   ]
  },
  {
   "cell_type": "code",
   "execution_count": null,
   "metadata": {},
   "outputs": [],
   "source": [
    "\n",
    "\n",
    "# Now follows the machine learning bit..."
   ]
  },
  {
   "cell_type": "code",
   "execution_count": 9,
   "metadata": {},
   "outputs": [
    {
     "name": "stderr",
     "output_type": "stream",
     "text": [
      "/usr/local/lib/python3.5/dist-packages/sklearn/preprocessing/data.py:625: DataConversionWarning: Data with input dtype float32, float64 were all converted to float64 by StandardScaler.\n",
      "  return self.partial_fit(X, y)\n",
      "/usr/local/lib/python3.5/dist-packages/ipykernel_launcher.py:5: DataConversionWarning: Data with input dtype float32, float64 were all converted to float64 by StandardScaler.\n",
      "  \"\"\"\n",
      "/usr/local/lib/python3.5/dist-packages/ipykernel_launcher.py:6: DataConversionWarning: Data with input dtype float32, float64 were all converted to float64 by StandardScaler.\n",
      "  \n"
     ]
    }
   ],
   "source": [
    "# feature scaler\n",
    "from sklearn.preprocessing import StandardScaler\n",
    "scaler = StandardScaler()\n",
    "scaler.fit(X_train)\n",
    "X_train = scaler.transform(X_train)\n",
    "X_test = scaler.transform(X_test)\n"
   ]
  },
  {
   "cell_type": "code",
   "execution_count": 10,
   "metadata": {},
   "outputs": [
    {
     "name": "stdout",
     "output_type": "stream",
     "text": [
      "Training...\n"
     ]
    },
    {
     "data": {
      "text/plain": [
       "MLPClassifier(activation='relu', alpha=0.0001, batch_size='auto', beta_1=0.9,\n",
       "       beta_2=0.999, early_stopping=False, epsilon=1e-08,\n",
       "       hidden_layer_sizes=(25, 12, 10), learning_rate='constant',\n",
       "       learning_rate_init=0.001, max_iter=200, momentum=0.9,\n",
       "       n_iter_no_change=10, nesterovs_momentum=True, power_t=0.5,\n",
       "       random_state=None, shuffle=True, solver='adam', tol=0.0001,\n",
       "       validation_fraction=0.1, verbose=0, warm_start=False)"
      ]
     },
     "execution_count": 10,
     "metadata": {},
     "output_type": "execute_result"
    }
   ],
   "source": [
    "#train with My little pony... \n",
    "print(\"Training...\") \n",
    "from sklearn.neural_network import MLPClassifier \n",
    "mlp = MLPClassifier(hidden_layer_sizes=(len(attributes), int(len(attributes)/2), 10), max_iter=200, activation='relu', solver='adam', verbose=0)\n",
    "mlp.fit(X_train, y_train.values.ravel())\n"
   ]
  },
  {
   "cell_type": "code",
   "execution_count": 11,
   "metadata": {},
   "outputs": [
    {
     "name": "stdout",
     "output_type": "stream",
     "text": [
      "Confusion matrix:\n",
      "[[10239   124    53]\n",
      " [  434  1275   144]\n",
      " [  265   452   439]]\n",
      "Classification report:\n",
      "              precision    recall  f1-score   support\n",
      "\n",
      "         211       0.94      0.98      0.96     10416\n",
      "         321       0.69      0.69      0.69      1853\n",
      "        2212       0.69      0.38      0.49      1156\n",
      "\n",
      "   micro avg       0.89      0.89      0.89     13425\n",
      "   macro avg       0.77      0.68      0.71     13425\n",
      "weighted avg       0.88      0.89      0.88     13425\n",
      "\n"
     ]
    }
   ],
   "source": [
    "# make label predictions on test data\n",
    "predictions = mlp.predict(X_test)\n",
    "\n",
    "# evaluation\n",
    "from sklearn.metrics import classification_report, confusion_matrix\n",
    "print(\"Confusion matrix:\")\n",
    "print(confusion_matrix(y_test,predictions))\n",
    "print(\"Classification report:\")\n",
    "print(classification_report(y_test,predictions))"
   ]
  },
  {
   "cell_type": "code",
   "execution_count": 15,
   "metadata": {},
   "outputs": [
    {
     "data": {
      "image/png": "[encoded data removed]",
      "text/plain": [
       "<Figure size 432x288 with 1 Axes>"
      ]
     },
     "metadata": {
      "needs_background": "light"
     },
     "output_type": "display_data"
    },
    {
     "data": {
      "text/plain": [
       "<Figure size 432x288 with 0 Axes>"
      ]
     },
     "metadata": {},
     "output_type": "display_data"
    }
   ],
   "source": [
    "# create a classification variable based on the prediction probability\n",
    "probabilities = mlp.predict_proba(X_test) # gives list of [prob_pion, prob_kaon]\n",
    "class_var = np.array( [ probabilities[i][0] for i in range(len(y_test)) ] ) # list of prob_pion\n",
    "df_test = pd.DataFrame(data=X_test, columns=attributes)\n",
    "df_test[\"myMLP\"] = class_var\n",
    "df_test[\"absid\"] = y_test\n",
    "\n",
    "# plot this variable for the 3 categories, aka particle types\n",
    "crit_pion = df_test['absid'] == 211\n",
    "crit_kaon = df_test['absid'] == 321\n",
    "crit_proton = df_test['absid'] == 2212\n",
    "df_test_pions = df_test[crit_pion]\n",
    "df_test_kaons = df_test[crit_kaon]\n",
    "df_test_protons = df_test[crit_proton]\n",
    "\n",
    "df_test_pions[\"myMLP\"].plot.hist(bins=50, range=(0,1), alpha=0.5, density=True, label=\"pions\")\n",
    "df_test_kaons[\"myMLP\"].plot.hist(bins=50, range=(0,1), alpha=0.5, density=True, label=\"kaons\")\n",
    "df_test_protons[\"myMLP\"].plot.hist(bins=50, range=(0,1), alpha=0.5, density=True, label=\"protons\")\n",
    "plt.legend(loc='upper right')\n",
    "plt.xlabel(\"myMLP classifier\")\n",
    "plt.show()\n",
    "\n",
    "f = plt.figure()\n",
    "f.savefig(\"myMLP_performance.pdf\", bbox_inches='tight')"
   ]
  },
  {
   "cell_type": "code",
   "execution_count": null,
   "metadata": {},
   "outputs": [],
   "source": [
    "# cell reserved to \"read in\" experimental data later\n",
    "...\n",
    "\n"
   ]
  },
  {
   "cell_type": "code",
   "execution_count": null,
   "metadata": {},
   "outputs": [],
   "source": [
    "REPEAT PREDICITIONS FOR EXPERIMENTAL DATA..."
   ]
  },
  {
   "cell_type": "code",
   "execution_count": null,
   "metadata": {},
   "outputs": [],
   "source": []
  }
 ],
 "metadata": {
  "kernelspec": {
   "display_name": "Python 3",
   "language": "python",
   "name": "python3"
  },
  "language_info": {
   "codemirror_mode": {
    "name": "ipython",
    "version": 3
   },
   "file_extension": ".py",
   "mimetype": "text/x-python",
   "name": "python",
   "nbconvert_exporter": "python",
   "pygments_lexer": "ipython3",
   "version": "3.5.3"
  }
 },
 "nbformat": 4,
 "nbformat_minor": 2
}
